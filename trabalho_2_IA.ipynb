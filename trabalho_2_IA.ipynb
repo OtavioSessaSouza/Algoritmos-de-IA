{
  "cells": [
    {
      "cell_type": "code",
      "execution_count": null,
      "metadata": {
        "id": "PZNMU8X85gc6"
      },
      "outputs": [],
      "source": [
        "# Importa os modulos, funcoes e classes necessarias para o codigo\n",
        "from sklearn.datasets import load_digits\n",
        "from sklearn.model_selection import train_test_split\n",
        "from sklearn.neighbors import KNeighborsClassifier\n",
        "from sklearn.neural_network import MLPClassifier\n",
        "from sklearn.tree import DecisionTreeClassifier\n",
        "from sklearn.preprocessing import MinMaxScaler\n",
        "from sklearn.metrics import classification_report\n",
        "import matplotlib.pyplot as plt\n",
        "from sklearn import preprocessing\n",
        "\n",
        "\n",
        "import numpy as np\n",
        "import gzip\n",
        "\n",
        "from sklearn.cluster import KMeans\n",
        "from sklearn.metrics import accuracy_score, precision_score, recall_score, f1_score, mean_absolute_error, mean_squared_error, confusion_matrix, classification_report\n"
      ]
    },
    {
      "cell_type": "markdown",
      "metadata": {
        "id": "EQ1tzhqsOAst"
      },
      "source": [
        "# Leitura e recuperação dos dados de treino e teste"
      ]
    },
    {
      "cell_type": "code",
      "execution_count": null,
      "metadata": {
        "colab": {
          "base_uri": "https://localhost:8080/"
        },
        "id": "hXxPJspuqSkj",
        "outputId": "9bab78f2-31c8-42bc-e786-fec68e8d2f6f"
      },
      "outputs": [
        {
          "name": "stdout",
          "output_type": "stream",
          "text": [
            "--2022-11-28 03:50:16--  http://yann.lecun.com/exdb/mnist/train-images-idx3-ubyte.gz\n",
            "Resolving yann.lecun.com (yann.lecun.com)... 104.21.29.36, 172.67.171.76, 2606:4700:3036::ac43:ab4c, ...\n",
            "Connecting to yann.lecun.com (yann.lecun.com)|104.21.29.36|:80... connected.\n",
            "HTTP request sent, awaiting response... 200 OK\n",
            "Length: 9912422 (9.5M) [application/x-gzip]\n",
            "Saving to: ‘train-images-idx3-ubyte.gz’\n",
            "\n",
            "train-images-idx3-u 100%[===================>]   9.45M  28.9MB/s    in 0.3s    \n",
            "\n",
            "2022-11-28 03:50:16 (28.9 MB/s) - ‘train-images-idx3-ubyte.gz’ saved [9912422/9912422]\n",
            "\n",
            "--2022-11-28 03:50:16--  http://yann.lecun.com/exdb/mnist/train-labels-idx1-ubyte.gz\n",
            "Resolving yann.lecun.com (yann.lecun.com)... 104.21.29.36, 172.67.171.76, 2606:4700:3036::ac43:ab4c, ...\n",
            "Connecting to yann.lecun.com (yann.lecun.com)|104.21.29.36|:80... connected.\n",
            "HTTP request sent, awaiting response... 200 OK\n",
            "Length: 28881 (28K) [application/x-gzip]\n",
            "Saving to: ‘train-labels-idx1-ubyte.gz’\n",
            "\n",
            "train-labels-idx1-u 100%[===================>]  28.20K  --.-KB/s    in 0s      \n",
            "\n",
            "2022-11-28 03:50:16 (264 MB/s) - ‘train-labels-idx1-ubyte.gz’ saved [28881/28881]\n",
            "\n",
            "--2022-11-28 03:50:16--  http://yann.lecun.com/exdb/mnist/t10k-images-idx3-ubyte.gz\n",
            "Resolving yann.lecun.com (yann.lecun.com)... 104.21.29.36, 172.67.171.76, 2606:4700:3036::ac43:ab4c, ...\n",
            "Connecting to yann.lecun.com (yann.lecun.com)|104.21.29.36|:80... connected.\n",
            "HTTP request sent, awaiting response... 200 OK\n",
            "Length: 1648877 (1.6M) [application/x-gzip]\n",
            "Saving to: ‘t10k-images-idx3-ubyte.gz’\n",
            "\n",
            "t10k-images-idx3-ub 100%[===================>]   1.57M  --.-KB/s    in 0.08s   \n",
            "\n",
            "2022-11-28 03:50:17 (19.7 MB/s) - ‘t10k-images-idx3-ubyte.gz’ saved [1648877/1648877]\n",
            "\n",
            "--2022-11-28 03:50:17--  http://yann.lecun.com/exdb/mnist/t10k-labels-idx1-ubyte.gz\n",
            "Resolving yann.lecun.com (yann.lecun.com)... 104.21.29.36, 172.67.171.76, 2606:4700:3036::ac43:ab4c, ...\n",
            "Connecting to yann.lecun.com (yann.lecun.com)|104.21.29.36|:80... connected.\n",
            "HTTP request sent, awaiting response... 200 OK\n",
            "Length: 4542 (4.4K) [application/x-gzip]\n",
            "Saving to: ‘t10k-labels-idx1-ubyte.gz’\n",
            "\n",
            "t10k-labels-idx1-ub 100%[===================>]   4.44K  --.-KB/s    in 0s      \n",
            "\n",
            "2022-11-28 03:50:17 (504 MB/s) - ‘t10k-labels-idx1-ubyte.gz’ saved [4542/4542]\n",
            "\n"
          ]
        }
      ],
      "source": [
        "# Download dos arquivos com os dados de treino e teste\n",
        "# Referencia: http://yann.lecun.com/exdb/mnist/\n",
        "\n",
        "!wget http://yann.lecun.com/exdb/mnist/train-images-idx3-ubyte.gz\n",
        "!wget http://yann.lecun.com/exdb/mnist/train-labels-idx1-ubyte.gz\n",
        "!wget http://yann.lecun.com/exdb/mnist/t10k-images-idx3-ubyte.gz\n",
        "!wget http://yann.lecun.com/exdb/mnist/t10k-labels-idx1-ubyte.gz"
      ]
    },
    {
      "cell_type": "code",
      "execution_count": null,
      "metadata": {
        "id": "RmOmL1CMq2ta"
      },
      "outputs": [],
      "source": [
        "# Define a quantidade de exemplos nos arquivos de treino e teste e a quantidade de pixels nas imagens\n",
        "tamanho_treino = 60000\n",
        "tamanho_teste = 10000\n",
        "tamanho_imgs = 28 * 28"
      ]
    },
    {
      "cell_type": "code",
      "execution_count": null,
      "metadata": {
        "id": "gii1OO4MuRVX"
      },
      "outputs": [],
      "source": [
        "# LE E RECUPERA OS DADOS DO TREINO\n",
        "\n",
        "# Realiza a leitura dos atributos de entrada dos exemplos de treino e armazena na variavel dados_treino\n",
        "f = gzip.open('train-images-idx3-ubyte.gz','r')\n",
        "f.read(16)\n",
        "buf = f.read(tamanho_imgs * tamanho_treino)\n",
        "dados_treino = np.frombuffer(buf, dtype=np.uint8).astype(np.float32)\n",
        "dados_treino = dados_treino.reshape(tamanho_treino, tamanho_imgs)\n",
        "\n",
        "# Realiza a leitura das classes dos exemplos de treino e armazena na variavel classes_treino\n",
        "f = gzip.open('train-labels-idx1-ubyte.gz','r')\n",
        "f.read(8)\n",
        "buf = f.read(tamanho_treino)\n",
        "classes_treino = np.frombuffer(buf, dtype=np.uint8).astype(np.int64)"
      ]
    },
    {
      "cell_type": "code",
      "execution_count": null,
      "metadata": {
        "id": "OUiusCFOuQmR"
      },
      "outputs": [],
      "source": [
        "# LE E RECUPERA OS DADOS DO TESTE\n",
        "\n",
        "# Realiza a leitura dos atributos de entrada dos exemplos de teste e armazena na variavel dados_teste\n",
        "f = gzip.open('t10k-images-idx3-ubyte.gz','r')\n",
        "f.read(16)\n",
        "buf = f.read(tamanho_imgs * tamanho_teste)\n",
        "dados_teste = np.frombuffer(buf, dtype=np.uint8).astype(np.float32)\n",
        "dados_teste = dados_teste.reshape(tamanho_teste, tamanho_imgs)\n",
        "\n",
        "# Realiza a leitura das classes dos exemplos de teste e armazena na variavel classes_teste\n",
        "f = gzip.open('t10k-labels-idx1-ubyte.gz','r')\n",
        "f.read(8)\n",
        "buf = f.read(tamanho_teste)\n",
        "classes_teste = np.frombuffer(buf, dtype=np.uint8).astype(np.int64)"
      ]
    },
    {
      "cell_type": "code",
      "execution_count": null,
      "metadata": {
        "colab": {
          "base_uri": "https://localhost:8080/",
          "height": 282
        },
        "id": "J7-0Q0Z1rDzU",
        "outputId": "011ca6a6-5ba2-4779-e363-ecec7be3f2bb"
      },
      "outputs": [
        {
          "data": {
            "image/png": "[encoded data removed]",
            "text/plain": [
              "<Figure size 432x288 with 1 Axes>"
            ]
          },
          "metadata": {},
          "output_type": "display_data"
        },
        {
          "name": "stdout",
          "output_type": "stream",
          "text": [
            "Classe verdadeira: 7\n"
          ]
        }
      ],
      "source": [
        "# Exibe uma imagem aleatoria do conjunto de treino e sua classe verdadeira\n",
        "indice_aleatorio = np.random.randint(tamanho_treino)\n",
        "image = np.asarray(dados_treino[indice_aleatorio].reshape(28, 28)).squeeze()\n",
        "plt.imshow(image)\n",
        "plt.show()\n",
        "print ('Classe verdadeira:', classes_treino[indice_aleatorio])"
      ]
    },
    {
      "cell_type": "markdown",
      "metadata": {
        "id": "IesgYVW49nug"
      },
      "source": [
        "# Normalização dos valores dos atributos de entrada"
      ]
    },
    {
      "cell_type": "code",
      "execution_count": null,
      "metadata": {
        "id": "Enj9-voV8BKM"
      },
      "outputs": [],
      "source": [
        "# Instancia o metodo de normalização dos valores\n",
        "scaler1 = MinMaxScaler()\n"
      ]
    },
    {
      "cell_type": "code",
      "execution_count": null,
      "metadata": {
        "id": "V_o_8dwSR0H0"
      },
      "outputs": [],
      "source": [
        "# fit nos exemplos de treino\n",
        "scaler1 = scaler1.fit(dados_treino)"
      ]
    },
    {
      "cell_type": "code",
      "execution_count": null,
      "metadata": {
        "id": "5KPRhYbZ6Fnx"
      },
      "outputs": [],
      "source": [
        "#transform nos exemplos de treino\n",
        "dados_treino_norm = scaler1.fit_transform(dados_treino) #eu só não sobreescrevi a variavel por convenção propria"
      ]
    },
    {
      "cell_type": "code",
      "execution_count": null,
      "metadata": {
        "id": "-VpcvsuP3G27"
      },
      "outputs": [],
      "source": [
        "# transform nos exemplos de teste\n",
        "dados_teste_norm = scaler1.fit_transform(dados_teste) #eu só não sobreescrevi a variavel por convenção propria"
      ]
    },
    {
      "cell_type": "markdown",
      "metadata": {
        "id": "CJjg8U7uwKJS"
      },
      "source": [
        "# Classificador k-Nearest Neighbors (kNN)"
      ]
    },
    {
      "cell_type": "code",
      "execution_count": null,
      "metadata": {
        "colab": {
          "base_uri": "https://localhost:8080/"
        },
        "id": "x_j6jIovz0Oc",
        "outputId": "897f1135-eb05-4751-8045-5b7b68bc4b01"
      },
      "outputs": [
        {
          "name": "stdout",
          "output_type": "stream",
          "text": [
            "Resultados kNN:\n",
            "               precision    recall  f1-score   support\n",
            "\n",
            "           0       0.97      0.99      0.98       980\n",
            "           1       0.95      1.00      0.97      1135\n",
            "           2       0.98      0.96      0.97      1032\n",
            "           3       0.97      0.97      0.97      1010\n",
            "           4       0.98      0.96      0.97       982\n",
            "           5       0.97      0.97      0.97       892\n",
            "           6       0.98      0.99      0.98       958\n",
            "           7       0.96      0.96      0.96      1028\n",
            "           8       0.99      0.94      0.96       974\n",
            "           9       0.96      0.95      0.96      1009\n",
            "\n",
            "    accuracy                           0.97     10000\n",
            "   macro avg       0.97      0.97      0.97     10000\n",
            "weighted avg       0.97      0.97      0.97     10000\n",
            "\n"
          ]
        }
      ],
      "source": [
        "# Treinar e testar um classificador kNN\n",
        "classificador_knn = KNeighborsClassifier(n_neighbors=7)\n",
        "\n",
        "classificador_knn.fit(dados_treino_norm, classes_treino)\n",
        "\n",
        "saida_predita_knn = classificador_knn.predict(dados_teste_norm)\n",
        "\n",
        "print ('Resultados kNN:\\n', classification_report(classes_teste, saida_predita_knn))"
      ]
    },
    {
      "cell_type": "code",
      "execution_count": null,
      "metadata": {
        "colab": {
          "base_uri": "https://localhost:8080/",
          "height": 300
        },
        "id": "oethuzey1ZkI",
        "outputId": "61dad7a0-8b2a-496f-8492-cf90b960354e"
      },
      "outputs": [
        {
          "data": {
            "image/png": "[encoded data removed]",
            "text/plain": [
              "<Figure size 432x288 with 1 Axes>"
            ]
          },
          "metadata": {},
          "output_type": "display_data"
        },
        {
          "name": "stdout",
          "output_type": "stream",
          "text": [
            "Classe verdadeira: 2\n",
            "Classe predita: 7\n"
          ]
        }
      ],
      "source": [
        "# Exibe uma imagem aleatoria do conjunto de teste em que o classificador errou\n",
        "\n",
        "indice_erro = np.random.choice(np.where(saida_predita_knn!=classes_teste)[0])\n",
        "\n",
        "image = np.asarray(dados_teste[indice_erro].reshape(28, 28)).squeeze()\n",
        "plt.imshow(image)\n",
        "plt.show()\n",
        "print ('Classe verdadeira:', classes_teste[indice_erro])\n",
        "print ('Classe predita:', saida_predita_knn[indice_erro])"
      ]
    },
    {
      "cell_type": "code",
      "execution_count": null,
      "metadata": {
        "colab": {
          "base_uri": "https://localhost:8080/",
          "height": 300
        },
        "id": "HdwBIiai1bjC",
        "outputId": "c85524d5-b6dc-40c5-9d6c-526f9ed3ad97"
      },
      "outputs": [
        {
          "data": {
            "image/png": "[encoded data removed]",
            "text/plain": [
              "<Figure size 432x288 with 1 Axes>"
            ]
          },
          "metadata": {},
          "output_type": "display_data"
        },
        {
          "name": "stdout",
          "output_type": "stream",
          "text": [
            "Classe verdadeira: 3\n",
            "Classe predita: 3\n"
          ]
        }
      ],
      "source": [
        "# Exibe uma imagem aleatoria do conjunto de teste em que o classificador acertou\n",
        "\n",
        "indice_acerto = np.random.choice(np.where(saida_predita_knn==classes_teste)[0])\n",
        "\n",
        "image = np.asarray(dados_teste[indice_acerto].reshape(28, 28)).squeeze()\n",
        "plt.imshow(image)\n",
        "plt.show()\n",
        "print ('Classe verdadeira:', classes_teste[indice_acerto])\n",
        "print ('Classe predita:', saida_predita_knn[indice_acerto])"
      ]
    },
    {
      "cell_type": "markdown",
      "metadata": {
        "id": "fHMViz5S9s9e"
      },
      "source": [
        "# Classificador Multilayer Perceptron"
      ]
    },
    {
      "cell_type": "code",
      "execution_count": null,
      "metadata": {
        "id": "cI44QSnCDKnI"
      },
      "outputs": [],
      "source": [
        "# definição dos atributos usados no modelo\n",
        "# para manter um padão mais semelhante usado pelo professor nos exemplos\n",
        "atributos_entrada_treino = dados_treino_norm\n",
        "classes_treinoCMP = classes_treino\n",
        "\n",
        "atributos_entrada_teste = dados_teste_norm\n",
        "classes_testeCMP = classes_teste"
      ]
    },
    {
      "cell_type": "code",
      "execution_count": null,
      "metadata": {
        "colab": {
          "background_save": true
        },
        "id": "XHOMvDjzwZt9",
        "outputId": "65f151f9-aff0-4ff7-b825-6cede6f947ae"
      },
      "outputs": [
        {
          "name": "stderr",
          "output_type": "stream",
          "text": [
            "/usr/local/lib/python3.7/dist-packages/sklearn/neural_network/_multilayer_perceptron.py:699: UserWarning: Training interrupted by user.\n",
            "  warnings.warn(\"Training interrupted by user.\")\n"
          ]
        },
        {
          "name": "stdout",
          "output_type": "stream",
          "text": [
            "Resultados Treino MLP:\n",
            "               precision    recall  f1-score   support\n",
            "\n",
            "           0       1.00      1.00      1.00      5923\n",
            "           1       1.00      1.00      1.00      6742\n",
            "           2       1.00      1.00      1.00      5958\n",
            "           3       1.00      0.99      1.00      6131\n",
            "           4       0.99      1.00      1.00      5842\n",
            "           5       1.00      1.00      1.00      5421\n",
            "           6       1.00      1.00      1.00      5918\n",
            "           7       1.00      1.00      1.00      6265\n",
            "           8       1.00      1.00      1.00      5851\n",
            "           9       1.00      0.99      1.00      5949\n",
            "\n",
            "    accuracy                           1.00     60000\n",
            "   macro avg       1.00      1.00      1.00     60000\n",
            "weighted avg       1.00      1.00      1.00     60000\n",
            "\n"
          ]
        }
      ],
      "source": [
        "# Treinar um classificador Multilayer Perceptron\n",
        "\n",
        "classificador_mlp = MLPClassifier(hidden_layer_sizes=(250, 100, 50), activation='relu', max_iter=100)\n",
        "#os valores que eu defini para as camadas e numero de interações são um pouco altos, no Google coolab demora uns 4 min para rodar essa parte\n",
        "\n",
        "classificador_mlp.fit(atributos_entrada_treino, classes_treinoCMP)\n",
        "\n",
        "saida_predita_treino_mlp = classificador_mlp.predict(atributos_entrada_treino)\n",
        "print ('Resultados Treino MLP:\\n', classification_report(classes_treino, saida_predita_treino_mlp))"
      ]
    },
    {
      "cell_type": "code",
      "execution_count": null,
      "metadata": {
        "colab": {
          "base_uri": "https://localhost:8080/"
        },
        "id": "v7ONib3y57IR",
        "outputId": "846f3b71-edb7-48a6-95d4-b11cbd0f5abf"
      },
      "outputs": [
        {
          "name": "stdout",
          "output_type": "stream",
          "text": [
            "Resultados teste MLP:\n",
            "               precision    recall  f1-score   support\n",
            "\n",
            "           0       0.99      0.99      0.99       980\n",
            "           1       1.00      0.99      0.99      1135\n",
            "           2       0.98      0.99      0.98      1032\n",
            "           3       0.98      0.98      0.98      1010\n",
            "           4       0.99      0.97      0.98       982\n",
            "           5       0.99      0.97      0.98       892\n",
            "           6       0.99      0.99      0.99       958\n",
            "           7       0.98      0.98      0.98      1028\n",
            "           8       0.98      0.98      0.98       974\n",
            "           9       0.96      0.99      0.98      1009\n",
            "\n",
            "    accuracy                           0.98     10000\n",
            "   macro avg       0.98      0.98      0.98     10000\n",
            "weighted avg       0.98      0.98      0.98     10000\n",
            "\n"
          ]
        }
      ],
      "source": [
        "# Testar o classificador Multilayer Perceptron treinado\n",
        "saida_predita_teste_mlp = classificador_mlp.predict(atributos_entrada_teste)\n",
        "\n",
        "print ('Resultados teste MLP:\\n', classification_report(classes_teste, saida_predita_teste_mlp))"
      ]
    },
    {
      "cell_type": "markdown",
      "metadata": {
        "id": "PeeVeiz2wQ-T"
      },
      "source": [
        "# Classificador Árvore de Decisão"
      ]
    },
    {
      "cell_type": "code",
      "execution_count": null,
      "metadata": {
        "colab": {
          "base_uri": "https://localhost:8080/"
        },
        "id": "KNGEUArzwUow",
        "outputId": "686737d1-027d-414b-bb6e-5678afae083d"
      },
      "outputs": [
        {
          "name": "stdout",
          "output_type": "stream",
          "text": [
            "Resultados Treino MLP:\n",
            "               precision    recall  f1-score   support\n",
            "\n",
            "           0       1.00      1.00      1.00      5923\n",
            "           1       1.00      1.00      1.00      6742\n",
            "           2       1.00      1.00      1.00      5958\n",
            "           3       1.00      1.00      1.00      6131\n",
            "           4       1.00      1.00      1.00      5842\n",
            "           5       1.00      1.00      1.00      5421\n",
            "           6       1.00      1.00      1.00      5918\n",
            "           7       1.00      1.00      1.00      6265\n",
            "           8       1.00      1.00      1.00      5851\n",
            "           9       1.00      1.00      1.00      5949\n",
            "\n",
            "    accuracy                           1.00     60000\n",
            "   macro avg       1.00      1.00      1.00     60000\n",
            "weighted avg       1.00      1.00      1.00     60000\n",
            "\n"
          ]
        }
      ],
      "source": [
        "# Treinar um classificador de Arvore de Decisao\n",
        "\n",
        "classificador_dt = DecisionTreeClassifier(criterion='entropy', splitter='best', max_depth=100, min_samples_leaf=1)\n",
        "\n",
        "classificador_dt.fit(atributos_entrada_treino, classes_treino)\n",
        "\n",
        "saida_predita_treino_dt = classificador_dt.predict(atributos_entrada_treino)\n",
        "\n",
        "\n",
        "print ('Resultados Treino MLP:\\n', classification_report(classes_treino, saida_predita_treino_dt))"
      ]
    },
    {
      "cell_type": "code",
      "execution_count": null,
      "metadata": {
        "colab": {
          "base_uri": "https://localhost:8080/"
        },
        "id": "9CZJoPH56f-4",
        "outputId": "8d67b356-6378-4721-9704-fcaa1451b207"
      },
      "outputs": [
        {
          "name": "stdout",
          "output_type": "stream",
          "text": [
            "Resultados teste MLP:\n",
            "               precision    recall  f1-score   support\n",
            "\n",
            "           0       0.92      0.93      0.93       980\n",
            "           1       0.96      0.97      0.97      1135\n",
            "           2       0.88      0.88      0.88      1032\n",
            "           3       0.86      0.86      0.86      1010\n",
            "           4       0.86      0.88      0.87       982\n",
            "           5       0.83      0.83      0.83       892\n",
            "           6       0.91      0.90      0.90       958\n",
            "           7       0.91      0.90      0.91      1028\n",
            "           8       0.85      0.84      0.84       974\n",
            "           9       0.85      0.85      0.85      1009\n",
            "\n",
            "    accuracy                           0.89     10000\n",
            "   macro avg       0.88      0.88      0.88     10000\n",
            "weighted avg       0.89      0.89      0.89     10000\n",
            "\n"
          ]
        }
      ],
      "source": [
        "# Testar o classificador de Arvore de Decisao treinado\n",
        "saida_predita_teste_dt = classificador_dt.predict(atributos_entrada_teste)\n",
        "print ('Resultados teste MLP:\\n', classification_report(classes_teste, saida_predita_teste_dt))"
      ]
    }
  ],
  "metadata": {
    "colab": {
      "provenance": []
    },
    "kernelspec": {
      "display_name": "Python 3.10.5 64-bit",
      "language": "python",
      "name": "python3"
    },
    "language_info": {
      "codemirror_mode": {
        "name": "ipython",
        "version": 3
      },
      "file_extension": ".py",
      "mimetype": "text/x-python",
      "name": "python",
      "nbconvert_exporter": "python",
      "pygments_lexer": "ipython3",
      "version": "3.10.5"
    },
    "vscode": {
      "interpreter": {
        "hash": "369f2c481f4da34e4445cda3fffd2e751bd1c4d706f27375911949ba6bb62e1c"
      }
    }
  },
  "nbformat": 4,
  "nbformat_minor": 0
}
